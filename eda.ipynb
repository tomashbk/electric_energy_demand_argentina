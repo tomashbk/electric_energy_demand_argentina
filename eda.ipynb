{
 "cells": [
  {
   "cell_type": "code",
   "execution_count": 49,
   "metadata": {},
   "outputs": [],
   "source": [
    "import pandas as pd\n",
    "import numpy as np\n",
    "import matplotlib.pyplot as plt"
   ]
  },
  {
   "cell_type": "code",
   "execution_count": 50,
   "metadata": {},
   "outputs": [
    {
     "data": {
      "text/html": [
       "<div>\n",
       "<style scoped>\n",
       "    .dataframe tbody tr th:only-of-type {\n",
       "        vertical-align: middle;\n",
       "    }\n",
       "\n",
       "    .dataframe tbody tr th {\n",
       "        vertical-align: top;\n",
       "    }\n",
       "\n",
       "    .dataframe thead th {\n",
       "        text-align: right;\n",
       "    }\n",
       "</style>\n",
       "<table border=\"1\" class=\"dataframe\">\n",
       "  <thead>\n",
       "    <tr style=\"text-align: right;\">\n",
       "      <th></th>\n",
       "      <th>anio</th>\n",
       "      <th>mes</th>\n",
       "      <th>agente_nemo</th>\n",
       "      <th>agente_descripcion</th>\n",
       "      <th>tipo_agente</th>\n",
       "      <th>region</th>\n",
       "      <th>provincia</th>\n",
       "      <th>categoria_area</th>\n",
       "      <th>categoria_demanda</th>\n",
       "      <th>tarifa</th>\n",
       "      <th>categoria_tarifa</th>\n",
       "      <th>demanda_MWh</th>\n",
       "      <th>indice_tiempo</th>\n",
       "    </tr>\n",
       "  </thead>\n",
       "  <tbody>\n",
       "    <tr>\n",
       "      <th>0</th>\n",
       "      <td>2012</td>\n",
       "      <td>1</td>\n",
       "      <td>AARGTAOY</td>\n",
       "      <td>AEROP ARG 2000 - Aeroparque</td>\n",
       "      <td>GU</td>\n",
       "      <td>GRAN BS.AS.</td>\n",
       "      <td>BUENOS AIRES</td>\n",
       "      <td>Gran Usuario MEM</td>\n",
       "      <td>Gran Usuario</td>\n",
       "      <td>GUMAS/AUTOGENERADORES</td>\n",
       "      <td>Industrial/Comercial Grande</td>\n",
       "      <td>2222.628</td>\n",
       "      <td>2012-01</td>\n",
       "    </tr>\n",
       "    <tr>\n",
       "      <th>1</th>\n",
       "      <td>2012</td>\n",
       "      <td>1</td>\n",
       "      <td>ACARQQ3Y</td>\n",
       "      <td>ASOC.COOP.ARG. - Quequén</td>\n",
       "      <td>GU</td>\n",
       "      <td>BUENOS AIRES</td>\n",
       "      <td>BUENOS AIRES</td>\n",
       "      <td>Gran Usuario MEM</td>\n",
       "      <td>Gran Usuario</td>\n",
       "      <td>GUMAS/AUTOGENERADORES</td>\n",
       "      <td>Industrial/Comercial Grande</td>\n",
       "      <td>536.858</td>\n",
       "      <td>2012-01</td>\n",
       "    </tr>\n",
       "    <tr>\n",
       "      <th>2</th>\n",
       "      <td>2012</td>\n",
       "      <td>1</td>\n",
       "      <td>ACARSLSY</td>\n",
       "      <td>ASOC.COOP.ARG. - San Lorenzo</td>\n",
       "      <td>GU</td>\n",
       "      <td>LITORAL</td>\n",
       "      <td>SANTA FE</td>\n",
       "      <td>Gran Usuario MEM</td>\n",
       "      <td>Gran Usuario</td>\n",
       "      <td>GUMAS/AUTOGENERADORES</td>\n",
       "      <td>Industrial/Comercial Grande</td>\n",
       "      <td>336.297</td>\n",
       "      <td>2012-01</td>\n",
       "    </tr>\n",
       "    <tr>\n",
       "      <th>3</th>\n",
       "      <td>2012</td>\n",
       "      <td>1</td>\n",
       "      <td>ACINROSY</td>\n",
       "      <td>ACINDAR ROSARIO EX-NAVARRO</td>\n",
       "      <td>GU</td>\n",
       "      <td>LITORAL</td>\n",
       "      <td>SANTA FE</td>\n",
       "      <td>Gran Usuario MEM</td>\n",
       "      <td>Gran Usuario</td>\n",
       "      <td>GUMAS/AUTOGENERADORES</td>\n",
       "      <td>Industrial/Comercial Grande</td>\n",
       "      <td>601.066</td>\n",
       "      <td>2012-01</td>\n",
       "    </tr>\n",
       "    <tr>\n",
       "      <th>4</th>\n",
       "      <td>2012</td>\n",
       "      <td>1</td>\n",
       "      <td>ACINTBOY</td>\n",
       "      <td>ACINDAR PTA. TABLADA</td>\n",
       "      <td>GU</td>\n",
       "      <td>GRAN BS.AS.</td>\n",
       "      <td>BUENOS AIRES</td>\n",
       "      <td>Gran Usuario MEM</td>\n",
       "      <td>Gran Usuario</td>\n",
       "      <td>GUMAS/AUTOGENERADORES</td>\n",
       "      <td>Industrial/Comercial Grande</td>\n",
       "      <td>3076.618</td>\n",
       "      <td>2012-01</td>\n",
       "    </tr>\n",
       "  </tbody>\n",
       "</table>\n",
       "</div>"
      ],
      "text/plain": [
       "   anio  mes agente_nemo            agente_descripcion tipo_agente  \\\n",
       "0  2012    1    AARGTAOY   AEROP ARG 2000 - Aeroparque          GU   \n",
       "1  2012    1    ACARQQ3Y      ASOC.COOP.ARG. - Quequén          GU   \n",
       "2  2012    1    ACARSLSY  ASOC.COOP.ARG. - San Lorenzo          GU   \n",
       "3  2012    1    ACINROSY    ACINDAR ROSARIO EX-NAVARRO          GU   \n",
       "4  2012    1    ACINTBOY          ACINDAR PTA. TABLADA          GU   \n",
       "\n",
       "         region     provincia    categoria_area categoria_demanda  \\\n",
       "0   GRAN BS.AS.  BUENOS AIRES  Gran Usuario MEM      Gran Usuario   \n",
       "1  BUENOS AIRES  BUENOS AIRES  Gran Usuario MEM      Gran Usuario   \n",
       "2       LITORAL      SANTA FE  Gran Usuario MEM      Gran Usuario   \n",
       "3       LITORAL      SANTA FE  Gran Usuario MEM      Gran Usuario   \n",
       "4   GRAN BS.AS.  BUENOS AIRES  Gran Usuario MEM      Gran Usuario   \n",
       "\n",
       "                  tarifa             categoria_tarifa  demanda_MWh  \\\n",
       "0  GUMAS/AUTOGENERADORES  Industrial/Comercial Grande     2222.628   \n",
       "1  GUMAS/AUTOGENERADORES  Industrial/Comercial Grande      536.858   \n",
       "2  GUMAS/AUTOGENERADORES  Industrial/Comercial Grande      336.297   \n",
       "3  GUMAS/AUTOGENERADORES  Industrial/Comercial Grande      601.066   \n",
       "4  GUMAS/AUTOGENERADORES  Industrial/Comercial Grande     3076.618   \n",
       "\n",
       "  indice_tiempo  \n",
       "0       2012-01  \n",
       "1       2012-01  \n",
       "2       2012-01  \n",
       "3       2012-01  \n",
       "4       2012-01  "
      ]
     },
     "execution_count": 50,
     "metadata": {},
     "output_type": "execute_result"
    }
   ],
   "source": [
    "df_original = pd.read_csv(\"datasets/historical_demand.csv\")\n",
    "df_original.head()"
   ]
  },
  {
   "cell_type": "code",
   "execution_count": 51,
   "metadata": {},
   "outputs": [
    {
     "data": {
      "text/plain": [
       "DatetimeIndex(['2012-01-01', '2012-02-01', '2012-03-01', '2012-04-01',\n",
       "               '2012-05-01', '2012-06-01', '2012-07-01', '2012-08-01',\n",
       "               '2012-09-01', '2012-10-01', '2012-11-01', '2012-12-01',\n",
       "               '2013-01-01', '2013-02-01', '2013-03-01', '2013-04-01',\n",
       "               '2013-05-01', '2013-06-01', '2013-07-01', '2013-08-01',\n",
       "               '2013-09-01', '2013-10-01', '2013-11-01', '2013-12-01',\n",
       "               '2014-01-01', '2014-02-01', '2014-03-01', '2014-04-01',\n",
       "               '2014-05-01', '2014-06-01', '2014-07-01', '2014-08-01',\n",
       "               '2014-09-01', '2014-10-01', '2014-11-01', '2014-12-01',\n",
       "               '2015-01-01', '2015-02-01', '2015-03-01', '2015-04-01',\n",
       "               '2015-05-01', '2015-06-01', '2015-07-01', '2015-08-01',\n",
       "               '2015-09-01', '2015-10-01', '2015-11-01', '2015-12-01',\n",
       "               '2016-01-01', '2016-02-01', '2016-03-01', '2016-04-01',\n",
       "               '2016-05-01', '2016-06-01', '2016-07-01', '2016-08-01',\n",
       "               '2016-09-01', '2016-10-01', '2016-11-01', '2016-12-01',\n",
       "               '2017-01-01', '2017-02-01', '2017-03-01', '2017-04-01',\n",
       "               '2017-05-01', '2017-06-01', '2017-07-01', '2017-08-01',\n",
       "               '2017-09-01', '2017-10-01', '2017-11-01', '2017-12-01',\n",
       "               '2018-01-01', '2018-02-01', '2018-03-01', '2018-04-01',\n",
       "               '2018-05-01', '2018-06-01', '2018-07-01', '2018-08-01',\n",
       "               '2018-09-01', '2018-10-01', '2018-11-01', '2018-12-01',\n",
       "               '2019-01-01', '2019-02-01', '2019-03-01', '2019-04-01',\n",
       "               '2019-05-01', '2019-06-01', '2019-07-01', '2019-08-01',\n",
       "               '2019-09-01', '2019-10-01', '2019-11-01', '2019-12-01',\n",
       "               '2020-01-01', '2020-02-01'],\n",
       "              dtype='datetime64[ns]', name='indice_tiempo', freq=None)"
      ]
     },
     "execution_count": 51,
     "metadata": {},
     "output_type": "execute_result"
    }
   ],
   "source": [
    "df_time_series = df_original[['indice_tiempo', 'demanda_MWh']].groupby('indice_tiempo').sum()\n",
    "pd.to_datetime(df_time_series.index)\n"
   ]
  },
  {
   "cell_type": "code",
   "execution_count": 71,
   "metadata": {},
   "outputs": [],
   "source": [
    "df_time_series.index.names = ['time_index']"
   ]
  },
  {
   "cell_type": "code",
   "execution_count": 72,
   "metadata": {},
   "outputs": [],
   "source": [
    "df_time_series.rename(columns={'demanda_MWh': 'demand_MWh'}, inplace=True)"
   ]
  },
  {
   "cell_type": "code",
   "execution_count": 73,
   "metadata": {},
   "outputs": [
    {
     "data": {
      "text/html": [
       "<div>\n",
       "<style scoped>\n",
       "    .dataframe tbody tr th:only-of-type {\n",
       "        vertical-align: middle;\n",
       "    }\n",
       "\n",
       "    .dataframe tbody tr th {\n",
       "        vertical-align: top;\n",
       "    }\n",
       "\n",
       "    .dataframe thead th {\n",
       "        text-align: right;\n",
       "    }\n",
       "</style>\n",
       "<table border=\"1\" class=\"dataframe\">\n",
       "  <thead>\n",
       "    <tr style=\"text-align: right;\">\n",
       "      <th></th>\n",
       "      <th>demand_MWh</th>\n",
       "    </tr>\n",
       "  </thead>\n",
       "  <tbody>\n",
       "    <tr>\n",
       "      <th>count</th>\n",
       "      <td>9.800000e+01</td>\n",
       "    </tr>\n",
       "    <tr>\n",
       "      <th>mean</th>\n",
       "      <td>1.175291e+07</td>\n",
       "    </tr>\n",
       "    <tr>\n",
       "      <th>std</th>\n",
       "      <td>1.336332e+06</td>\n",
       "    </tr>\n",
       "    <tr>\n",
       "      <th>min</th>\n",
       "      <td>8.969068e+06</td>\n",
       "    </tr>\n",
       "    <tr>\n",
       "      <th>25%</th>\n",
       "      <td>1.058506e+07</td>\n",
       "    </tr>\n",
       "    <tr>\n",
       "      <th>50%</th>\n",
       "      <td>1.186014e+07</td>\n",
       "    </tr>\n",
       "    <tr>\n",
       "      <th>75%</th>\n",
       "      <td>1.268995e+07</td>\n",
       "    </tr>\n",
       "    <tr>\n",
       "      <th>max</th>\n",
       "      <td>1.493529e+07</td>\n",
       "    </tr>\n",
       "  </tbody>\n",
       "</table>\n",
       "</div>"
      ],
      "text/plain": [
       "         demand_MWh\n",
       "count  9.800000e+01\n",
       "mean   1.175291e+07\n",
       "std    1.336332e+06\n",
       "min    8.969068e+06\n",
       "25%    1.058506e+07\n",
       "50%    1.186014e+07\n",
       "75%    1.268995e+07\n",
       "max    1.493529e+07"
      ]
     },
     "execution_count": 73,
     "metadata": {},
     "output_type": "execute_result"
    }
   ],
   "source": [
    "df_time_series.describe()"
   ]
  },
  {
   "cell_type": "markdown",
   "metadata": {},
   "source": [
    "## CHECK GAPS BETWEEN DATES"
   ]
  },
  {
   "cell_type": "code",
   "execution_count": 74,
   "metadata": {},
   "outputs": [
    {
     "data": {
      "text/html": [
       "<div>\n",
       "<style scoped>\n",
       "    .dataframe tbody tr th:only-of-type {\n",
       "        vertical-align: middle;\n",
       "    }\n",
       "\n",
       "    .dataframe tbody tr th {\n",
       "        vertical-align: top;\n",
       "    }\n",
       "\n",
       "    .dataframe thead th {\n",
       "        text-align: right;\n",
       "    }\n",
       "</style>\n",
       "<table border=\"1\" class=\"dataframe\">\n",
       "  <thead>\n",
       "    <tr style=\"text-align: right;\">\n",
       "      <th></th>\n",
       "      <th>time_index</th>\n",
       "      <th>demand_MWh</th>\n",
       "      <th>gap</th>\n",
       "    </tr>\n",
       "  </thead>\n",
       "  <tbody>\n",
       "  </tbody>\n",
       "</table>\n",
       "</div>"
      ],
      "text/plain": [
       "Empty DataFrame\n",
       "Columns: [time_index, demand_MWh, gap]\n",
       "Index: []"
      ]
     },
     "execution_count": 74,
     "metadata": {},
     "output_type": "execute_result"
    }
   ],
   "source": [
    "df_time_series_check_gaps = df_time_series.reset_index()\n",
    "df_time_series_check_gaps['gap'] = pd.to_datetime(df_time_series_check_gaps['time_index']).sort_values().diff() > pd.to_timedelta('31 days')\n",
    "df_time_series_check_gaps[df_time_series_check_gaps['gap']]"
   ]
  },
  {
   "cell_type": "code",
   "execution_count": 58,
   "metadata": {},
   "outputs": [
    {
     "data": {
      "text/plain": [
       "<AxesSubplot: xlabel='indice_tiempo'>"
      ]
     },
     "execution_count": 58,
     "metadata": {},
     "output_type": "execute_result"
    },
    {
     "data": {
      "image/png": "[encoded data removed]",
      "text/plain": [
       "<Figure size 640x480 with 1 Axes>"
      ]
     },
     "metadata": {},
     "output_type": "display_data"
    }
   ],
   "source": [
    "df_time_series.plot()"
   ]
  },
  {
   "cell_type": "code",
   "execution_count": 75,
   "metadata": {},
   "outputs": [],
   "source": [
    "df_time_series.to_csv('datasets/historical_demand_sum.csv')"
   ]
  }
 ],
 "metadata": {
  "kernelspec": {
   "display_name": "Python 3.8.10 ('env': venv)",
   "language": "python",
   "name": "python3"
  },
  "language_info": {
   "codemirror_mode": {
    "name": "ipython",
    "version": 3
   },
   "file_extension": ".py",
   "mimetype": "text/x-python",
   "name": "python",
   "nbconvert_exporter": "python",
   "pygments_lexer": "ipython3",
   "version": "3.8.10"
  },
  "orig_nbformat": 4,
  "vscode": {
   "interpreter": {
    "hash": "2db24a62814bff90c0ecd234a39254681deb0eb6e509086356f74b5d5630882f"
   }
  }
 },
 "nbformat": 4,
 "nbformat_minor": 2
}
